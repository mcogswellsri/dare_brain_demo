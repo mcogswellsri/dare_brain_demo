{
 "cells": [
  {
   "cell_type": "code",
   "execution_count": 1,
   "metadata": {},
   "outputs": [],
   "source": [
    "import glob\n",
    "import json\n",
    "\n",
    "import numpy as np\n",
    "import pandas as pd\n",
    "\n",
    "import matplotlib.pyplot as plt\n",
    "import seaborn as sns\n",
    "\n",
    "import torch"
   ]
  },
  {
   "cell_type": "markdown",
   "metadata": {},
   "source": [
    "# Load, join, filter the data"
   ]
  },
  {
   "cell_type": "code",
   "execution_count": 2,
   "metadata": {},
   "outputs": [],
   "source": [
    "survival_info = pd.read_csv('/dataSRI/DataSets/BrATS/MICCAI_BraTS2020_TrainingData/survival_info.csv')"
   ]
  },
  {
   "cell_type": "code",
   "execution_count": 3,
   "metadata": {},
   "outputs": [],
   "source": [
    "survival_info = survival_info.rename(columns={'Brats20ID': 'subj_id'})"
   ]
  },
  {
   "cell_type": "code",
   "execution_count": 4,
   "metadata": {},
   "outputs": [],
   "source": [
    "with open('split_preprocessing/saved_ids.json', 'r') as f:\n",
    "    split_data = json.load(f)"
   ]
  },
  {
   "cell_type": "code",
   "execution_count": 5,
   "metadata": {},
   "outputs": [],
   "source": [
    "data = []\n",
    "for train_id in split_data['train_ids']:\n",
    "    data.append({\n",
    "        'subj_id': train_id,\n",
    "        'split': 'train',\n",
    "    })\n",
    "for val_id in split_data['val_ids']:\n",
    "    data.append({\n",
    "        'subj_id': val_id,\n",
    "        'split': 'val',\n",
    "    })\n",
    "split_df = pd.DataFrame(data)"
   ]
  },
  {
   "cell_type": "code",
   "execution_count": 6,
   "metadata": {},
   "outputs": [],
   "source": [
    "survival_info = survival_info.join(split_df.set_index('subj_id'), on='subj_id')"
   ]
  },
  {
   "cell_type": "code",
   "execution_count": 7,
   "metadata": {},
   "outputs": [],
   "source": [
    "survival_features = []\n",
    "survival_feature_files = glob.glob('data/models/unet_resize2/survival_features/result_dataset/survival_features_*.pt')\n",
    "for fname in survival_feature_files:\n",
    "    features = torch.load(fname, map_location='cpu')\n",
    "    survival_features.append({\n",
    "        'subj_id': features['subj_id'],\n",
    "        'et_ratio': float(features['et_pred_size'] / features['whole_brain_size']),\n",
    "        'tc_ratio': float(features['tc_pred_size'] / features['whole_brain_size']),\n",
    "        'wt_ratio': float(features['wt_pred_size'] / features['whole_brain_size']),\n",
    "        'et_ratio_gt': float(features['et_gt_size'] / features['whole_brain_size']),\n",
    "        'tc_ratio_gt': float(features['tc_gt_size'] / features['whole_brain_size']),\n",
    "        'wt_ratio_gt': float(features['wt_gt_size'] / features['whole_brain_size']),\n",
    "    })\n",
    "survival_feature_df = pd.DataFrame(survival_features)"
   ]
  },
  {
   "cell_type": "code",
   "execution_count": 8,
   "metadata": {},
   "outputs": [
    {
     "data": {
      "text/plain": [
       "dict_keys(['subj_id', 'whole_brain_size', 'et_pred_size', 'tc_pred_size', 'wt_pred_size', 'et_gt_size', 'tc_gt_size', 'wt_gt_size'])"
      ]
     },
     "execution_count": 8,
     "metadata": {},
     "output_type": "execute_result"
    }
   ],
   "source": [
    "features.keys()"
   ]
  },
  {
   "cell_type": "code",
   "execution_count": 9,
   "metadata": {},
   "outputs": [],
   "source": [
    "survival_info = survival_info.join(survival_feature_df.set_index('subj_id'), on='subj_id')"
   ]
  },
  {
   "cell_type": "code",
   "execution_count": 10,
   "metadata": {},
   "outputs": [],
   "source": [
    "# There's only one subject which didn't have an integer for Survival_days\n",
    "# Not sure what's best, so I just removed this subject\n",
    "survival_info = survival_info[~survival_info.Survival_days.str.startswith('ALIVE')]"
   ]
  },
  {
   "cell_type": "code",
   "execution_count": 11,
   "metadata": {},
   "outputs": [
    {
     "data": {
      "text/html": [
       "<div>\n",
       "<style scoped>\n",
       "    .dataframe tbody tr th:only-of-type {\n",
       "        vertical-align: middle;\n",
       "    }\n",
       "\n",
       "    .dataframe tbody tr th {\n",
       "        vertical-align: top;\n",
       "    }\n",
       "\n",
       "    .dataframe thead th {\n",
       "        text-align: right;\n",
       "    }\n",
       "</style>\n",
       "<table border=\"1\" class=\"dataframe\">\n",
       "  <thead>\n",
       "    <tr style=\"text-align: right;\">\n",
       "      <th></th>\n",
       "      <th>subj_id</th>\n",
       "      <th>Age</th>\n",
       "      <th>Survival_days</th>\n",
       "      <th>Extent_of_Resection</th>\n",
       "      <th>split</th>\n",
       "      <th>et_ratio</th>\n",
       "      <th>tc_ratio</th>\n",
       "      <th>wt_ratio</th>\n",
       "      <th>et_ratio_gt</th>\n",
       "      <th>tc_ratio_gt</th>\n",
       "      <th>wt_ratio_gt</th>\n",
       "    </tr>\n",
       "  </thead>\n",
       "  <tbody>\n",
       "    <tr>\n",
       "      <th>0</th>\n",
       "      <td>BraTS20_Training_001</td>\n",
       "      <td>60.463</td>\n",
       "      <td>289</td>\n",
       "      <td>GTR</td>\n",
       "      <td>train</td>\n",
       "      <td>0.033998</td>\n",
       "      <td>0.101025</td>\n",
       "      <td>0.218979</td>\n",
       "      <td>0.020282</td>\n",
       "      <td>0.031553</td>\n",
       "      <td>0.154112</td>\n",
       "    </tr>\n",
       "    <tr>\n",
       "      <th>1</th>\n",
       "      <td>BraTS20_Training_002</td>\n",
       "      <td>52.263</td>\n",
       "      <td>616</td>\n",
       "      <td>GTR</td>\n",
       "      <td>train</td>\n",
       "      <td>0.011757</td>\n",
       "      <td>0.032764</td>\n",
       "      <td>0.109355</td>\n",
       "      <td>0.004259</td>\n",
       "      <td>0.010043</td>\n",
       "      <td>0.042721</td>\n",
       "    </tr>\n",
       "    <tr>\n",
       "      <th>2</th>\n",
       "      <td>BraTS20_Training_003</td>\n",
       "      <td>54.301</td>\n",
       "      <td>464</td>\n",
       "      <td>GTR</td>\n",
       "      <td>val</td>\n",
       "      <td>0.007410</td>\n",
       "      <td>0.251932</td>\n",
       "      <td>0.147432</td>\n",
       "      <td>0.002272</td>\n",
       "      <td>0.002886</td>\n",
       "      <td>0.022807</td>\n",
       "    </tr>\n",
       "    <tr>\n",
       "      <th>3</th>\n",
       "      <td>BraTS20_Training_004</td>\n",
       "      <td>39.068</td>\n",
       "      <td>788</td>\n",
       "      <td>GTR</td>\n",
       "      <td>train</td>\n",
       "      <td>0.019238</td>\n",
       "      <td>0.051777</td>\n",
       "      <td>0.168525</td>\n",
       "      <td>0.009960</td>\n",
       "      <td>0.017252</td>\n",
       "      <td>0.066715</td>\n",
       "    </tr>\n",
       "    <tr>\n",
       "      <th>4</th>\n",
       "      <td>BraTS20_Training_005</td>\n",
       "      <td>68.493</td>\n",
       "      <td>465</td>\n",
       "      <td>GTR</td>\n",
       "      <td>val</td>\n",
       "      <td>0.016478</td>\n",
       "      <td>0.015750</td>\n",
       "      <td>0.087741</td>\n",
       "      <td>0.007525</td>\n",
       "      <td>0.010039</td>\n",
       "      <td>0.015161</td>\n",
       "    </tr>\n",
       "    <tr>\n",
       "      <th>...</th>\n",
       "      <td>...</td>\n",
       "      <td>...</td>\n",
       "      <td>...</td>\n",
       "      <td>...</td>\n",
       "      <td>...</td>\n",
       "      <td>...</td>\n",
       "      <td>...</td>\n",
       "      <td>...</td>\n",
       "      <td>...</td>\n",
       "      <td>...</td>\n",
       "      <td>...</td>\n",
       "    </tr>\n",
       "    <tr>\n",
       "      <th>231</th>\n",
       "      <td>BraTS20_Training_363</td>\n",
       "      <td>57.000</td>\n",
       "      <td>62</td>\n",
       "      <td>GTR</td>\n",
       "      <td>train</td>\n",
       "      <td>0.054188</td>\n",
       "      <td>0.065773</td>\n",
       "      <td>0.168061</td>\n",
       "      <td>0.033360</td>\n",
       "      <td>0.050576</td>\n",
       "      <td>0.086163</td>\n",
       "    </tr>\n",
       "    <tr>\n",
       "      <th>232</th>\n",
       "      <td>BraTS20_Training_366</td>\n",
       "      <td>72.000</td>\n",
       "      <td>633</td>\n",
       "      <td>GTR</td>\n",
       "      <td>train</td>\n",
       "      <td>0.035345</td>\n",
       "      <td>0.039631</td>\n",
       "      <td>0.085865</td>\n",
       "      <td>0.018090</td>\n",
       "      <td>0.021674</td>\n",
       "      <td>0.042272</td>\n",
       "    </tr>\n",
       "    <tr>\n",
       "      <th>233</th>\n",
       "      <td>BraTS20_Training_367</td>\n",
       "      <td>60.000</td>\n",
       "      <td>437</td>\n",
       "      <td>STR</td>\n",
       "      <td>train</td>\n",
       "      <td>0.020555</td>\n",
       "      <td>0.046078</td>\n",
       "      <td>0.177541</td>\n",
       "      <td>0.011445</td>\n",
       "      <td>0.012607</td>\n",
       "      <td>0.074254</td>\n",
       "    </tr>\n",
       "    <tr>\n",
       "      <th>234</th>\n",
       "      <td>BraTS20_Training_368</td>\n",
       "      <td>49.000</td>\n",
       "      <td>442</td>\n",
       "      <td>GTR</td>\n",
       "      <td>train</td>\n",
       "      <td>0.022956</td>\n",
       "      <td>0.038741</td>\n",
       "      <td>0.169104</td>\n",
       "      <td>0.011996</td>\n",
       "      <td>0.012951</td>\n",
       "      <td>0.059287</td>\n",
       "    </tr>\n",
       "    <tr>\n",
       "      <th>235</th>\n",
       "      <td>BraTS20_Training_369</td>\n",
       "      <td>50.000</td>\n",
       "      <td>145</td>\n",
       "      <td>GTR</td>\n",
       "      <td>train</td>\n",
       "      <td>0.039295</td>\n",
       "      <td>0.060780</td>\n",
       "      <td>0.279529</td>\n",
       "      <td>0.023374</td>\n",
       "      <td>0.034589</td>\n",
       "      <td>0.121907</td>\n",
       "    </tr>\n",
       "  </tbody>\n",
       "</table>\n",
       "<p>235 rows × 11 columns</p>\n",
       "</div>"
      ],
      "text/plain": [
       "                  subj_id     Age Survival_days Extent_of_Resection  split  \\\n",
       "0    BraTS20_Training_001  60.463           289                 GTR  train   \n",
       "1    BraTS20_Training_002  52.263           616                 GTR  train   \n",
       "2    BraTS20_Training_003  54.301           464                 GTR    val   \n",
       "3    BraTS20_Training_004  39.068           788                 GTR  train   \n",
       "4    BraTS20_Training_005  68.493           465                 GTR    val   \n",
       "..                    ...     ...           ...                 ...    ...   \n",
       "231  BraTS20_Training_363  57.000            62                 GTR  train   \n",
       "232  BraTS20_Training_366  72.000           633                 GTR  train   \n",
       "233  BraTS20_Training_367  60.000           437                 STR  train   \n",
       "234  BraTS20_Training_368  49.000           442                 GTR  train   \n",
       "235  BraTS20_Training_369  50.000           145                 GTR  train   \n",
       "\n",
       "     et_ratio  tc_ratio  wt_ratio  et_ratio_gt  tc_ratio_gt  wt_ratio_gt  \n",
       "0    0.033998  0.101025  0.218979     0.020282     0.031553     0.154112  \n",
       "1    0.011757  0.032764  0.109355     0.004259     0.010043     0.042721  \n",
       "2    0.007410  0.251932  0.147432     0.002272     0.002886     0.022807  \n",
       "3    0.019238  0.051777  0.168525     0.009960     0.017252     0.066715  \n",
       "4    0.016478  0.015750  0.087741     0.007525     0.010039     0.015161  \n",
       "..        ...       ...       ...          ...          ...          ...  \n",
       "231  0.054188  0.065773  0.168061     0.033360     0.050576     0.086163  \n",
       "232  0.035345  0.039631  0.085865     0.018090     0.021674     0.042272  \n",
       "233  0.020555  0.046078  0.177541     0.011445     0.012607     0.074254  \n",
       "234  0.022956  0.038741  0.169104     0.011996     0.012951     0.059287  \n",
       "235  0.039295  0.060780  0.279529     0.023374     0.034589     0.121907  \n",
       "\n",
       "[235 rows x 11 columns]"
      ]
     },
     "execution_count": 11,
     "metadata": {},
     "output_type": "execute_result"
    }
   ],
   "source": [
    "survival_info"
   ]
  },
  {
   "cell_type": "code",
   "execution_count": 12,
   "metadata": {},
   "outputs": [
    {
     "data": {
      "text/html": [
       "<div>\n",
       "<style scoped>\n",
       "    .dataframe tbody tr th:only-of-type {\n",
       "        vertical-align: middle;\n",
       "    }\n",
       "\n",
       "    .dataframe tbody tr th {\n",
       "        vertical-align: top;\n",
       "    }\n",
       "\n",
       "    .dataframe thead th {\n",
       "        text-align: right;\n",
       "    }\n",
       "</style>\n",
       "<table border=\"1\" class=\"dataframe\">\n",
       "  <thead>\n",
       "    <tr style=\"text-align: right;\">\n",
       "      <th></th>\n",
       "      <th>subj_id</th>\n",
       "      <th>Age</th>\n",
       "      <th>Survival_days</th>\n",
       "      <th>Extent_of_Resection</th>\n",
       "      <th>et_ratio</th>\n",
       "      <th>tc_ratio</th>\n",
       "      <th>wt_ratio</th>\n",
       "      <th>et_ratio_gt</th>\n",
       "      <th>tc_ratio_gt</th>\n",
       "      <th>wt_ratio_gt</th>\n",
       "    </tr>\n",
       "    <tr>\n",
       "      <th>split</th>\n",
       "      <th></th>\n",
       "      <th></th>\n",
       "      <th></th>\n",
       "      <th></th>\n",
       "      <th></th>\n",
       "      <th></th>\n",
       "      <th></th>\n",
       "      <th></th>\n",
       "      <th></th>\n",
       "      <th></th>\n",
       "    </tr>\n",
       "  </thead>\n",
       "  <tbody>\n",
       "    <tr>\n",
       "      <th>train</th>\n",
       "      <td>179</td>\n",
       "      <td>179</td>\n",
       "      <td>179</td>\n",
       "      <td>101</td>\n",
       "      <td>179</td>\n",
       "      <td>179</td>\n",
       "      <td>179</td>\n",
       "      <td>179</td>\n",
       "      <td>179</td>\n",
       "      <td>179</td>\n",
       "    </tr>\n",
       "    <tr>\n",
       "      <th>val</th>\n",
       "      <td>56</td>\n",
       "      <td>56</td>\n",
       "      <td>56</td>\n",
       "      <td>27</td>\n",
       "      <td>56</td>\n",
       "      <td>56</td>\n",
       "      <td>56</td>\n",
       "      <td>56</td>\n",
       "      <td>56</td>\n",
       "      <td>56</td>\n",
       "    </tr>\n",
       "  </tbody>\n",
       "</table>\n",
       "</div>"
      ],
      "text/plain": [
       "       subj_id  Age  Survival_days  Extent_of_Resection  et_ratio  tc_ratio  \\\n",
       "split                                                                         \n",
       "train      179  179            179                  101       179       179   \n",
       "val         56   56             56                   27        56        56   \n",
       "\n",
       "       wt_ratio  et_ratio_gt  tc_ratio_gt  wt_ratio_gt  \n",
       "split                                                   \n",
       "train       179          179          179          179  \n",
       "val          56           56           56           56  "
      ]
     },
     "execution_count": 12,
     "metadata": {},
     "output_type": "execute_result"
    }
   ],
   "source": [
    "survival_info.groupby('split').agg('count')"
   ]
  },
  {
   "cell_type": "code",
   "execution_count": 13,
   "metadata": {},
   "outputs": [
    {
     "data": {
      "text/html": [
       "<style  type=\"text/css\" >\n",
       "    #T_2cd24608_0a70_11eb_8bb7_5f8e345ba89drow0_col0 {\n",
       "            background-color:  #023858;\n",
       "            color:  #f1f1f1;\n",
       "        }    #T_2cd24608_0a70_11eb_8bb7_5f8e345ba89drow0_col1 {\n",
       "            background-color:  #faf3f9;\n",
       "            color:  #000000;\n",
       "        }    #T_2cd24608_0a70_11eb_8bb7_5f8e345ba89drow0_col2 {\n",
       "            background-color:  #ede8f3;\n",
       "            color:  #000000;\n",
       "        }    #T_2cd24608_0a70_11eb_8bb7_5f8e345ba89drow0_col3 {\n",
       "            background-color:  #fff7fb;\n",
       "            color:  #000000;\n",
       "        }    #T_2cd24608_0a70_11eb_8bb7_5f8e345ba89drow0_col4 {\n",
       "            background-color:  #f8f1f8;\n",
       "            color:  #000000;\n",
       "        }    #T_2cd24608_0a70_11eb_8bb7_5f8e345ba89drow0_col5 {\n",
       "            background-color:  #fdf5fa;\n",
       "            color:  #000000;\n",
       "        }    #T_2cd24608_0a70_11eb_8bb7_5f8e345ba89drow0_col6 {\n",
       "            background-color:  #fff7fb;\n",
       "            color:  #000000;\n",
       "        }    #T_2cd24608_0a70_11eb_8bb7_5f8e345ba89drow1_col0 {\n",
       "            background-color:  #f0eaf4;\n",
       "            color:  #000000;\n",
       "        }    #T_2cd24608_0a70_11eb_8bb7_5f8e345ba89drow1_col1 {\n",
       "            background-color:  #023858;\n",
       "            color:  #f1f1f1;\n",
       "        }    #T_2cd24608_0a70_11eb_8bb7_5f8e345ba89drow1_col2 {\n",
       "            background-color:  #fdf5fa;\n",
       "            color:  #000000;\n",
       "        }    #T_2cd24608_0a70_11eb_8bb7_5f8e345ba89drow1_col3 {\n",
       "            background-color:  #4094c3;\n",
       "            color:  #000000;\n",
       "        }    #T_2cd24608_0a70_11eb_8bb7_5f8e345ba89drow1_col4 {\n",
       "            background-color:  #034c78;\n",
       "            color:  #f1f1f1;\n",
       "        }    #T_2cd24608_0a70_11eb_8bb7_5f8e345ba89drow1_col5 {\n",
       "            background-color:  #03446a;\n",
       "            color:  #f1f1f1;\n",
       "        }    #T_2cd24608_0a70_11eb_8bb7_5f8e345ba89drow1_col6 {\n",
       "            background-color:  #197db7;\n",
       "            color:  #000000;\n",
       "        }    #T_2cd24608_0a70_11eb_8bb7_5f8e345ba89drow2_col0 {\n",
       "            background-color:  #e1dfed;\n",
       "            color:  #000000;\n",
       "        }    #T_2cd24608_0a70_11eb_8bb7_5f8e345ba89drow2_col1 {\n",
       "            background-color:  #fff7fb;\n",
       "            color:  #000000;\n",
       "        }    #T_2cd24608_0a70_11eb_8bb7_5f8e345ba89drow2_col2 {\n",
       "            background-color:  #023858;\n",
       "            color:  #f1f1f1;\n",
       "        }    #T_2cd24608_0a70_11eb_8bb7_5f8e345ba89drow2_col3 {\n",
       "            background-color:  #c1cae2;\n",
       "            color:  #000000;\n",
       "        }    #T_2cd24608_0a70_11eb_8bb7_5f8e345ba89drow2_col4 {\n",
       "            background-color:  #fff7fb;\n",
       "            color:  #000000;\n",
       "        }    #T_2cd24608_0a70_11eb_8bb7_5f8e345ba89drow2_col5 {\n",
       "            background-color:  #fff7fb;\n",
       "            color:  #000000;\n",
       "        }    #T_2cd24608_0a70_11eb_8bb7_5f8e345ba89drow2_col6 {\n",
       "            background-color:  #e0deed;\n",
       "            color:  #000000;\n",
       "        }    #T_2cd24608_0a70_11eb_8bb7_5f8e345ba89drow3_col0 {\n",
       "            background-color:  #fff7fb;\n",
       "            color:  #000000;\n",
       "        }    #T_2cd24608_0a70_11eb_8bb7_5f8e345ba89drow3_col1 {\n",
       "            background-color:  #509ac6;\n",
       "            color:  #000000;\n",
       "        }    #T_2cd24608_0a70_11eb_8bb7_5f8e345ba89drow3_col2 {\n",
       "            background-color:  #d1d2e6;\n",
       "            color:  #000000;\n",
       "        }    #T_2cd24608_0a70_11eb_8bb7_5f8e345ba89drow3_col3 {\n",
       "            background-color:  #023858;\n",
       "            color:  #f1f1f1;\n",
       "        }    #T_2cd24608_0a70_11eb_8bb7_5f8e345ba89drow3_col4 {\n",
       "            background-color:  #5ea0ca;\n",
       "            color:  #000000;\n",
       "        }    #T_2cd24608_0a70_11eb_8bb7_5f8e345ba89drow3_col5 {\n",
       "            background-color:  #4094c3;\n",
       "            color:  #000000;\n",
       "        }    #T_2cd24608_0a70_11eb_8bb7_5f8e345ba89drow3_col6 {\n",
       "            background-color:  #05659f;\n",
       "            color:  #f1f1f1;\n",
       "        }    #T_2cd24608_0a70_11eb_8bb7_5f8e345ba89drow4_col0 {\n",
       "            background-color:  #ebe6f2;\n",
       "            color:  #000000;\n",
       "        }    #T_2cd24608_0a70_11eb_8bb7_5f8e345ba89drow4_col1 {\n",
       "            background-color:  #034c78;\n",
       "            color:  #f1f1f1;\n",
       "        }    #T_2cd24608_0a70_11eb_8bb7_5f8e345ba89drow4_col2 {\n",
       "            background-color:  #fbf3f9;\n",
       "            color:  #000000;\n",
       "        }    #T_2cd24608_0a70_11eb_8bb7_5f8e345ba89drow4_col3 {\n",
       "            background-color:  #4a98c5;\n",
       "            color:  #000000;\n",
       "        }    #T_2cd24608_0a70_11eb_8bb7_5f8e345ba89drow4_col4 {\n",
       "            background-color:  #023858;\n",
       "            color:  #f1f1f1;\n",
       "        }    #T_2cd24608_0a70_11eb_8bb7_5f8e345ba89drow4_col5 {\n",
       "            background-color:  #03517e;\n",
       "            color:  #f1f1f1;\n",
       "        }    #T_2cd24608_0a70_11eb_8bb7_5f8e345ba89drow4_col6 {\n",
       "            background-color:  #157ab5;\n",
       "            color:  #000000;\n",
       "        }    #T_2cd24608_0a70_11eb_8bb7_5f8e345ba89drow5_col0 {\n",
       "            background-color:  #f3edf5;\n",
       "            color:  #000000;\n",
       "        }    #T_2cd24608_0a70_11eb_8bb7_5f8e345ba89drow5_col1 {\n",
       "            background-color:  #03446a;\n",
       "            color:  #f1f1f1;\n",
       "        }    #T_2cd24608_0a70_11eb_8bb7_5f8e345ba89drow5_col2 {\n",
       "            background-color:  #fff7fb;\n",
       "            color:  #000000;\n",
       "        }    #T_2cd24608_0a70_11eb_8bb7_5f8e345ba89drow5_col3 {\n",
       "            background-color:  #358fc0;\n",
       "            color:  #000000;\n",
       "        }    #T_2cd24608_0a70_11eb_8bb7_5f8e345ba89drow5_col4 {\n",
       "            background-color:  #045280;\n",
       "            color:  #f1f1f1;\n",
       "        }    #T_2cd24608_0a70_11eb_8bb7_5f8e345ba89drow5_col5 {\n",
       "            background-color:  #023858;\n",
       "            color:  #f1f1f1;\n",
       "        }    #T_2cd24608_0a70_11eb_8bb7_5f8e345ba89drow5_col6 {\n",
       "            background-color:  #0f76b3;\n",
       "            color:  #f1f1f1;\n",
       "        }    #T_2cd24608_0a70_11eb_8bb7_5f8e345ba89drow6_col0 {\n",
       "            background-color:  #f4eef6;\n",
       "            color:  #000000;\n",
       "        }    #T_2cd24608_0a70_11eb_8bb7_5f8e345ba89drow6_col1 {\n",
       "            background-color:  #197db7;\n",
       "            color:  #000000;\n",
       "        }    #T_2cd24608_0a70_11eb_8bb7_5f8e345ba89drow6_col2 {\n",
       "            background-color:  #dedcec;\n",
       "            color:  #000000;\n",
       "        }    #T_2cd24608_0a70_11eb_8bb7_5f8e345ba89drow6_col3 {\n",
       "            background-color:  #04629a;\n",
       "            color:  #f1f1f1;\n",
       "        }    #T_2cd24608_0a70_11eb_8bb7_5f8e345ba89drow6_col4 {\n",
       "            background-color:  #187cb6;\n",
       "            color:  #000000;\n",
       "        }    #T_2cd24608_0a70_11eb_8bb7_5f8e345ba89drow6_col5 {\n",
       "            background-color:  #0d75b3;\n",
       "            color:  #f1f1f1;\n",
       "        }    #T_2cd24608_0a70_11eb_8bb7_5f8e345ba89drow6_col6 {\n",
       "            background-color:  #023858;\n",
       "            color:  #f1f1f1;\n",
       "        }</style><table id=\"T_2cd24608_0a70_11eb_8bb7_5f8e345ba89d\" ><thead>    <tr>        <th class=\"blank level0\" ></th>        <th class=\"col_heading level0 col0\" >Age</th>        <th class=\"col_heading level0 col1\" >et_ratio</th>        <th class=\"col_heading level0 col2\" >tc_ratio</th>        <th class=\"col_heading level0 col3\" >wt_ratio</th>        <th class=\"col_heading level0 col4\" >et_ratio_gt</th>        <th class=\"col_heading level0 col5\" >tc_ratio_gt</th>        <th class=\"col_heading level0 col6\" >wt_ratio_gt</th>    </tr></thead><tbody>\n",
       "                <tr>\n",
       "                        <th id=\"T_2cd24608_0a70_11eb_8bb7_5f8e345ba89dlevel0_row0\" class=\"row_heading level0 row0\" >Age</th>\n",
       "                        <td id=\"T_2cd24608_0a70_11eb_8bb7_5f8e345ba89drow0_col0\" class=\"data row0 col0\" >1.000000</td>\n",
       "                        <td id=\"T_2cd24608_0a70_11eb_8bb7_5f8e345ba89drow0_col1\" class=\"data row0 col1\" >0.053433</td>\n",
       "                        <td id=\"T_2cd24608_0a70_11eb_8bb7_5f8e345ba89drow0_col2\" class=\"data row0 col2\" >0.127236</td>\n",
       "                        <td id=\"T_2cd24608_0a70_11eb_8bb7_5f8e345ba89drow0_col3\" class=\"data row0 col3\" >-0.056229</td>\n",
       "                        <td id=\"T_2cd24608_0a70_11eb_8bb7_5f8e345ba89drow0_col4\" class=\"data row0 col4\" >0.080473</td>\n",
       "                        <td id=\"T_2cd24608_0a70_11eb_8bb7_5f8e345ba89drow0_col5\" class=\"data row0 col5\" >0.028964</td>\n",
       "                        <td id=\"T_2cd24608_0a70_11eb_8bb7_5f8e345ba89drow0_col6\" class=\"data row0 col6\" >0.021337</td>\n",
       "            </tr>\n",
       "            <tr>\n",
       "                        <th id=\"T_2cd24608_0a70_11eb_8bb7_5f8e345ba89dlevel0_row1\" class=\"row_heading level0 row1\" >et_ratio</th>\n",
       "                        <td id=\"T_2cd24608_0a70_11eb_8bb7_5f8e345ba89drow1_col0\" class=\"data row1 col0\" >0.053433</td>\n",
       "                        <td id=\"T_2cd24608_0a70_11eb_8bb7_5f8e345ba89drow1_col1\" class=\"data row1 col1\" >1.000000</td>\n",
       "                        <td id=\"T_2cd24608_0a70_11eb_8bb7_5f8e345ba89drow1_col2\" class=\"data row1 col2\" >0.022369</td>\n",
       "                        <td id=\"T_2cd24608_0a70_11eb_8bb7_5f8e345ba89drow1_col3\" class=\"data row1 col3\" >0.582915</td>\n",
       "                        <td id=\"T_2cd24608_0a70_11eb_8bb7_5f8e345ba89drow1_col4\" class=\"data row1 col4\" >0.926300</td>\n",
       "                        <td id=\"T_2cd24608_0a70_11eb_8bb7_5f8e345ba89drow1_col5\" class=\"data row1 col5\" >0.956237</td>\n",
       "                        <td id=\"T_2cd24608_0a70_11eb_8bb7_5f8e345ba89drow1_col6\" class=\"data row1 col6\" >0.704178</td>\n",
       "            </tr>\n",
       "            <tr>\n",
       "                        <th id=\"T_2cd24608_0a70_11eb_8bb7_5f8e345ba89dlevel0_row2\" class=\"row_heading level0 row2\" >tc_ratio</th>\n",
       "                        <td id=\"T_2cd24608_0a70_11eb_8bb7_5f8e345ba89drow2_col0\" class=\"data row2 col0\" >0.127236</td>\n",
       "                        <td id=\"T_2cd24608_0a70_11eb_8bb7_5f8e345ba89drow2_col1\" class=\"data row2 col1\" >0.022369</td>\n",
       "                        <td id=\"T_2cd24608_0a70_11eb_8bb7_5f8e345ba89drow2_col2\" class=\"data row2 col2\" >1.000000</td>\n",
       "                        <td id=\"T_2cd24608_0a70_11eb_8bb7_5f8e345ba89drow2_col3\" class=\"data row2 col3\" >0.256630</td>\n",
       "                        <td id=\"T_2cd24608_0a70_11eb_8bb7_5f8e345ba89drow2_col4\" class=\"data row2 col4\" >0.037469</td>\n",
       "                        <td id=\"T_2cd24608_0a70_11eb_8bb7_5f8e345ba89drow2_col5\" class=\"data row2 col5\" >0.010202</td>\n",
       "                        <td id=\"T_2cd24608_0a70_11eb_8bb7_5f8e345ba89drow2_col6\" class=\"data row2 col6\" >0.196067</td>\n",
       "            </tr>\n",
       "            <tr>\n",
       "                        <th id=\"T_2cd24608_0a70_11eb_8bb7_5f8e345ba89dlevel0_row3\" class=\"row_heading level0 row3\" >wt_ratio</th>\n",
       "                        <td id=\"T_2cd24608_0a70_11eb_8bb7_5f8e345ba89drow3_col0\" class=\"data row3 col0\" >-0.056229</td>\n",
       "                        <td id=\"T_2cd24608_0a70_11eb_8bb7_5f8e345ba89drow3_col1\" class=\"data row3 col1\" >0.582915</td>\n",
       "                        <td id=\"T_2cd24608_0a70_11eb_8bb7_5f8e345ba89drow3_col2\" class=\"data row3 col2\" >0.256630</td>\n",
       "                        <td id=\"T_2cd24608_0a70_11eb_8bb7_5f8e345ba89drow3_col3\" class=\"data row3 col3\" >1.000000</td>\n",
       "                        <td id=\"T_2cd24608_0a70_11eb_8bb7_5f8e345ba89drow3_col4\" class=\"data row3 col4\" >0.560571</td>\n",
       "                        <td id=\"T_2cd24608_0a70_11eb_8bb7_5f8e345ba89drow3_col5\" class=\"data row3 col5\" >0.606419</td>\n",
       "                        <td id=\"T_2cd24608_0a70_11eb_8bb7_5f8e345ba89drow3_col6\" class=\"data row3 col6\" >0.814856</td>\n",
       "            </tr>\n",
       "            <tr>\n",
       "                        <th id=\"T_2cd24608_0a70_11eb_8bb7_5f8e345ba89dlevel0_row4\" class=\"row_heading level0 row4\" >et_ratio_gt</th>\n",
       "                        <td id=\"T_2cd24608_0a70_11eb_8bb7_5f8e345ba89drow4_col0\" class=\"data row4 col0\" >0.080473</td>\n",
       "                        <td id=\"T_2cd24608_0a70_11eb_8bb7_5f8e345ba89drow4_col1\" class=\"data row4 col1\" >0.926300</td>\n",
       "                        <td id=\"T_2cd24608_0a70_11eb_8bb7_5f8e345ba89drow4_col2\" class=\"data row4 col2\" >0.037469</td>\n",
       "                        <td id=\"T_2cd24608_0a70_11eb_8bb7_5f8e345ba89drow4_col3\" class=\"data row4 col3\" >0.560571</td>\n",
       "                        <td id=\"T_2cd24608_0a70_11eb_8bb7_5f8e345ba89drow4_col4\" class=\"data row4 col4\" >1.000000</td>\n",
       "                        <td id=\"T_2cd24608_0a70_11eb_8bb7_5f8e345ba89drow4_col5\" class=\"data row4 col5\" >0.909249</td>\n",
       "                        <td id=\"T_2cd24608_0a70_11eb_8bb7_5f8e345ba89drow4_col6\" class=\"data row4 col6\" >0.713388</td>\n",
       "            </tr>\n",
       "            <tr>\n",
       "                        <th id=\"T_2cd24608_0a70_11eb_8bb7_5f8e345ba89dlevel0_row5\" class=\"row_heading level0 row5\" >tc_ratio_gt</th>\n",
       "                        <td id=\"T_2cd24608_0a70_11eb_8bb7_5f8e345ba89drow5_col0\" class=\"data row5 col0\" >0.028964</td>\n",
       "                        <td id=\"T_2cd24608_0a70_11eb_8bb7_5f8e345ba89drow5_col1\" class=\"data row5 col1\" >0.956237</td>\n",
       "                        <td id=\"T_2cd24608_0a70_11eb_8bb7_5f8e345ba89drow5_col2\" class=\"data row5 col2\" >0.010202</td>\n",
       "                        <td id=\"T_2cd24608_0a70_11eb_8bb7_5f8e345ba89drow5_col3\" class=\"data row5 col3\" >0.606419</td>\n",
       "                        <td id=\"T_2cd24608_0a70_11eb_8bb7_5f8e345ba89drow5_col4\" class=\"data row5 col4\" >0.909249</td>\n",
       "                        <td id=\"T_2cd24608_0a70_11eb_8bb7_5f8e345ba89drow5_col5\" class=\"data row5 col5\" >1.000000</td>\n",
       "                        <td id=\"T_2cd24608_0a70_11eb_8bb7_5f8e345ba89drow5_col6\" class=\"data row5 col6\" >0.731247</td>\n",
       "            </tr>\n",
       "            <tr>\n",
       "                        <th id=\"T_2cd24608_0a70_11eb_8bb7_5f8e345ba89dlevel0_row6\" class=\"row_heading level0 row6\" >wt_ratio_gt</th>\n",
       "                        <td id=\"T_2cd24608_0a70_11eb_8bb7_5f8e345ba89drow6_col0\" class=\"data row6 col0\" >0.021337</td>\n",
       "                        <td id=\"T_2cd24608_0a70_11eb_8bb7_5f8e345ba89drow6_col1\" class=\"data row6 col1\" >0.704178</td>\n",
       "                        <td id=\"T_2cd24608_0a70_11eb_8bb7_5f8e345ba89drow6_col2\" class=\"data row6 col2\" >0.196067</td>\n",
       "                        <td id=\"T_2cd24608_0a70_11eb_8bb7_5f8e345ba89drow6_col3\" class=\"data row6 col3\" >0.814856</td>\n",
       "                        <td id=\"T_2cd24608_0a70_11eb_8bb7_5f8e345ba89drow6_col4\" class=\"data row6 col4\" >0.713388</td>\n",
       "                        <td id=\"T_2cd24608_0a70_11eb_8bb7_5f8e345ba89drow6_col5\" class=\"data row6 col5\" >0.731247</td>\n",
       "                        <td id=\"T_2cd24608_0a70_11eb_8bb7_5f8e345ba89drow6_col6\" class=\"data row6 col6\" >1.000000</td>\n",
       "            </tr>\n",
       "    </tbody></table>"
      ],
      "text/plain": [
       "<pandas.io.formats.style.Styler at 0x7f45ac5722b0>"
      ]
     },
     "execution_count": 13,
     "metadata": {},
     "output_type": "execute_result"
    }
   ],
   "source": [
    "survival_info.corr().style.background_gradient()"
   ]
  },
  {
   "cell_type": "markdown",
   "metadata": {},
   "source": [
    "# Train and Evaluate a model"
   ]
  },
  {
   "cell_type": "code",
   "execution_count": 14,
   "metadata": {},
   "outputs": [],
   "source": [
    "import torch\n",
    "import torch.nn as nn\n",
    "import torch.nn.functional as F"
   ]
  },
  {
   "cell_type": "code",
   "execution_count": 15,
   "metadata": {},
   "outputs": [],
   "source": [
    "import skorch\n",
    "import skorch.dataset\n",
    "from skorch import NeuralNetClassifier, NeuralNetRegressor\n",
    "from skorch.helper import predefined_split\n",
    "\n",
    "from sklearn.preprocessing import StandardScaler"
   ]
  },
  {
   "cell_type": "code",
   "execution_count": 16,
   "metadata": {},
   "outputs": [],
   "source": [
    "import sklearn.metrics as metrics\n",
    "import scipy.stats"
   ]
  },
  {
   "cell_type": "code",
   "execution_count": 56,
   "metadata": {},
   "outputs": [],
   "source": [
    "train_mask = (survival_info.split == 'train')\n",
    "val_mask = (survival_info.split == 'val')"
   ]
  },
  {
   "cell_type": "code",
   "execution_count": 57,
   "metadata": {},
   "outputs": [],
   "source": [
    "X = np.stack([survival_info.Age, survival_info.et_ratio_gt, survival_info.tc_ratio_gt, survival_info.wt_ratio_gt]).T\n",
    "X = X.astype(np.float32)\n",
    "X_train = X[train_mask]\n",
    "X_val = X[val_mask]"
   ]
  },
  {
   "cell_type": "code",
   "execution_count": 58,
   "metadata": {},
   "outputs": [],
   "source": [
    "scaler = StandardScaler()\n",
    "scaler.fit(X_train)\n",
    "X_train = scaler.transform(X_train)\n",
    "X_val = scaler.transform(X_val)"
   ]
  },
  {
   "cell_type": "code",
   "execution_count": 59,
   "metadata": {},
   "outputs": [],
   "source": [
    "y = np.stack([survival_info.Survival_days.map(int)]).T\n",
    "y = y.astype(np.float32)\n",
    "y_train = y[train_mask]\n",
    "y_val = y[val_mask]"
   ]
  },
  {
   "cell_type": "code",
   "execution_count": 60,
   "metadata": {},
   "outputs": [],
   "source": [
    "num_inputs = X.shape[1]"
   ]
  },
  {
   "cell_type": "code",
   "execution_count": 61,
   "metadata": {},
   "outputs": [],
   "source": [
    "class LogRMSE(nn.Module):\n",
    "    def __init__(self):\n",
    "        super(LogRMSE, self).__init__()\n",
    "    \n",
    "    def forward(self, y_pred, y):\n",
    "        log_pred = torch.log(y_pred + 1)\n",
    "        log_gt   = torch.log(y + 1)\n",
    "        return torch.sqrt(torch.pow(log_pred - log_gt, 2).mean(dim=0))"
   ]
  },
  {
   "cell_type": "code",
   "execution_count": 62,
   "metadata": {},
   "outputs": [],
   "source": [
    "class SimpleModel(nn.Module):\n",
    "    def __init__(self):\n",
    "        super(SimpleModel, self).__init__()\n",
    "        \n",
    "        self.slope = 0.0\n",
    "        self.act_f = nn.LeakyReLU(self.slope)\n",
    "        self.layers = nn.Sequential(\n",
    "            nn.Linear(num_inputs, 64),\n",
    "            self.act_f,\n",
    "            nn.Linear(64, 64),\n",
    "            self.act_f,\n",
    "            nn.Linear(64,1),\n",
    "        )\n",
    "        self.init()\n",
    "    \n",
    "    def init(self):\n",
    "        for layer in self.layers:\n",
    "            if isinstance(layer, nn.Linear):\n",
    "                nn.init.xavier_normal_(layer.weight)\n",
    "                nn.init.constant_(layer.bias, 500.)\n",
    "        #nn.init.constant_(self.layers[-1].bias, 500.)\n",
    "        \n",
    "    def forward(self, X, **kwargs):\n",
    "        return self.layers(X)\n"
   ]
  },
  {
   "cell_type": "code",
   "execution_count": 63,
   "metadata": {},
   "outputs": [
    {
     "data": {
      "text/plain": [
       "<torch._C.Generator at 0x7f45acc3dcd0>"
      ]
     },
     "execution_count": 63,
     "metadata": {},
     "output_type": "execute_result"
    }
   ],
   "source": [
    "torch.manual_seed(2)"
   ]
  },
  {
   "cell_type": "code",
   "execution_count": 64,
   "metadata": {},
   "outputs": [
    {
     "data": {
      "text/plain": [
       "<class 'skorch.regressor.NeuralNetRegressor'>[initialized](\n",
       "  module_=SimpleModel(\n",
       "    (act_f): LeakyReLU(negative_slope=0.0)\n",
       "    (layers): Sequential(\n",
       "      (0): Linear(in_features=4, out_features=64, bias=True)\n",
       "      (1): LeakyReLU(negative_slope=0.0)\n",
       "      (2): Linear(in_features=64, out_features=64, bias=True)\n",
       "      (3): LeakyReLU(negative_slope=0.0)\n",
       "      (4): Linear(in_features=64, out_features=1, bias=True)\n",
       "    )\n",
       "  ),\n",
       ")"
      ]
     },
     "execution_count": 64,
     "metadata": {},
     "output_type": "execute_result"
    }
   ],
   "source": [
    "net = NeuralNetRegressor(\n",
    "    SimpleModel,\n",
    "    max_epochs=30,\n",
    "    criterion=LogRMSE,\n",
    "    lr=0.0003,\n",
    "    optimizer=torch.optim.Adam,\n",
    "    train_split=predefined_split(skorch.dataset.Dataset(X_val, y_val)),\n",
    "    # Shuffle training data on each epoch\n",
    "    iterator_train__shuffle=True,\n",
    ")\n",
    "net.initialize()"
   ]
  },
  {
   "cell_type": "code",
   "execution_count": 65,
   "metadata": {
    "scrolled": false
   },
   "outputs": [
    {
     "name": "stdout",
     "output_type": "stream",
     "text": [
      "Re-initializing module.\n",
      "Re-initializing optimizer.\n",
      "  epoch    train_loss    valid_loss     dur\n",
      "-------  ------------  ------------  ------\n",
      "      1        \u001b[36m1.2824\u001b[0m        \u001b[32m1.4599\u001b[0m  0.0832\n",
      "      2        \u001b[36m1.1245\u001b[0m        \u001b[32m1.3007\u001b[0m  0.0165\n",
      "      3        \u001b[36m0.9635\u001b[0m        \u001b[32m1.1713\u001b[0m  0.0137\n",
      "      4        \u001b[36m0.8801\u001b[0m        1.1792  0.0097\n",
      "      5        0.9434        \u001b[32m1.1669\u001b[0m  0.0188\n",
      "      6        0.9153        \u001b[32m1.1591\u001b[0m  0.0108\n",
      "      7        \u001b[36m0.8724\u001b[0m        1.1794  0.0107\n",
      "      8        \u001b[36m0.8718\u001b[0m        1.1964  0.0147\n",
      "      9        0.8843        1.1997  0.0106\n",
      "     10        0.8847        1.1877  0.0107\n",
      "     11        0.8758        1.1694  0.0147\n",
      "     12        \u001b[36m0.8676\u001b[0m        \u001b[32m1.1586\u001b[0m  0.0466\n",
      "     13        0.8703        \u001b[32m1.1567\u001b[0m  0.0277\n",
      "     14        0.8758        1.1575  0.0402\n",
      "     15        0.8738        1.1607  0.0378\n",
      "     16        0.8688        1.1639  0.0480\n",
      "     17        0.8681        1.1658  0.0386\n",
      "     18        \u001b[36m0.8628\u001b[0m        1.1664  0.0317\n",
      "     19        0.8678        1.1658  0.0201\n",
      "     20        0.8673        1.1661  0.0266\n",
      "     21        0.8667        1.1648  0.0141\n",
      "     22        0.8687        1.1645  0.0486\n",
      "     23        0.8671        1.1685  0.0128\n",
      "     24        0.8681        1.1723  0.0318\n",
      "     25        0.8652        1.1720  0.0140\n",
      "     26        0.8644        1.1664  0.0201\n",
      "     27        0.8697        1.1611  0.0478\n",
      "     28        0.8664        1.1615  0.0906\n",
      "     29        0.8681        1.1641  0.0275\n",
      "     30        0.8669        1.1684  0.0119\n"
     ]
    }
   ],
   "source": [
    "_ = net.fit(X_train, y_train)"
   ]
  },
  {
   "cell_type": "code",
   "execution_count": 66,
   "metadata": {},
   "outputs": [
    {
     "data": {
      "text/plain": [
       "<matplotlib.legend.Legend at 0x7f455c61eac8>"
      ]
     },
     "execution_count": 66,
     "metadata": {},
     "output_type": "execute_result"
    },
    {
     "data": {
      "image/png": "[encoded data removed]",
      "text/plain": [
       "<Figure size 432x288 with 1 Axes>"
      ]
     },
     "metadata": {
      "needs_background": "light"
     },
     "output_type": "display_data"
    }
   ],
   "source": [
    "train_loss = [h['train_loss'] for h in net.history]\n",
    "val_loss = [h['valid_loss'] for h in net.history]\n",
    "epochs = [h['epoch'] for h in net.history]\n",
    "plt.plot(epochs, train_loss, label='train')\n",
    "plt.plot(epochs, val_loss, label='val')\n",
    "plt.legend()"
   ]
  },
  {
   "cell_type": "code",
   "execution_count": 67,
   "metadata": {},
   "outputs": [],
   "source": [
    "y_train_pred = net.predict(X_train)"
   ]
  },
  {
   "cell_type": "code",
   "execution_count": 68,
   "metadata": {},
   "outputs": [],
   "source": [
    "y_val_pred = net.predict(X_val)"
   ]
  },
  {
   "cell_type": "code",
   "execution_count": 69,
   "metadata": {},
   "outputs": [
    {
     "name": "stderr",
     "output_type": "stream",
     "text": [
      "/dataSRI/MICHAELC/anaconda3/envs/pytorch/lib/python3.7/site-packages/seaborn/distributions.py:283: UserWarning: Data must have variance to compute a kernel density estimate.\n",
      "  warnings.warn(msg, UserWarning)\n"
     ]
    },
    {
     "data": {
      "text/plain": [
       "<matplotlib.axes._subplots.AxesSubplot at 0x7f455c4c7320>"
      ]
     },
     "execution_count": 69,
     "metadata": {},
     "output_type": "execute_result"
    },
    {
     "data": {
      "image/png": "[encoded data removed]",
      "text/plain": [
       "<Figure size 432x288 with 1 Axes>"
      ]
     },
     "metadata": {
      "needs_background": "light"
     },
     "output_type": "display_data"
    }
   ],
   "source": [
    "sns.distplot(convert(y_train_pred))"
   ]
  },
  {
   "cell_type": "code",
   "execution_count": 70,
   "metadata": {},
   "outputs": [
    {
     "name": "stderr",
     "output_type": "stream",
     "text": [
      "/dataSRI/MICHAELC/anaconda3/envs/pytorch/lib/python3.7/site-packages/seaborn/distributions.py:283: UserWarning: Data must have variance to compute a kernel density estimate.\n",
      "  warnings.warn(msg, UserWarning)\n"
     ]
    },
    {
     "data": {
      "text/plain": [
       "<matplotlib.axes._subplots.AxesSubplot at 0x7f45a80b0e10>"
      ]
     },
     "execution_count": 70,
     "metadata": {},
     "output_type": "execute_result"
    },
    {
     "data": {
      "image/png": "[encoded data removed]",
      "text/plain": [
       "<Figure size 432x288 with 1 Axes>"
      ]
     },
     "metadata": {
      "needs_background": "light"
     },
     "output_type": "display_data"
    }
   ],
   "source": [
    "sns.distplot(convert(y_val_pred))"
   ]
  },
  {
   "cell_type": "code",
   "execution_count": 50,
   "metadata": {},
   "outputs": [],
   "source": [
    "def convert(days, month_length=30.): \n",
    "    months = days / month_length\n",
    "    classes = np.zeros_like(days, dtype=int)\n",
    "    # 0 - short term (less than 10 months)\n",
    "    classes[months < 10.] = 0\n",
    "    # 1 - mid term (between 10 and 15 months)\n",
    "    classes[(10. <= months) & (months <= 15.)] = 1\n",
    "    # 2 - long term (more than 15 months)\n",
    "    classes[months > 15.] = 2\n",
    "    return classes\n",
    "    \n",
    "def compute_accuracy(pred_days, gt_days):\n",
    "    # based on the quantization from the BraTS paper (https://arxiv.org/pdf/1811.02629.pdf)\n",
    "    pred_classes = convert(pred_days)\n",
    "    gt_classes = convert(gt_days)\n",
    "    acc = (pred_classes == gt_classes).mean()\n",
    "    return acc"
   ]
  },
  {
   "cell_type": "code",
   "execution_count": 51,
   "metadata": {},
   "outputs": [
    {
     "data": {
      "text/plain": [
       "0.27932960893854747"
      ]
     },
     "execution_count": 51,
     "metadata": {},
     "output_type": "execute_result"
    }
   ],
   "source": [
    "compute_accuracy(y_train_pred, y_train)"
   ]
  },
  {
   "cell_type": "code",
   "execution_count": 70,
   "metadata": {},
   "outputs": [
    {
     "ename": "NameError",
     "evalue": "name 'gtc' is not defined",
     "output_type": "error",
     "traceback": [
      "\u001b[0;31m---------------------------------------------------------------------------\u001b[0m",
      "\u001b[0;31mNameError\u001b[0m                                 Traceback (most recent call last)",
      "\u001b[0;32m<ipython-input-70-5b8ab08d454c>\u001b[0m in \u001b[0;36m<module>\u001b[0;34m\u001b[0m\n\u001b[0;32m----> 1\u001b[0;31m \u001b[0;32mfor\u001b[0m \u001b[0mytp\u001b[0m\u001b[0;34m,\u001b[0m \u001b[0mpci\u001b[0m \u001b[0;32min\u001b[0m \u001b[0mzip\u001b[0m\u001b[0;34m(\u001b[0m\u001b[0my_train\u001b[0m\u001b[0;34m,\u001b[0m \u001b[0mgtc\u001b[0m\u001b[0;34m)\u001b[0m\u001b[0;34m:\u001b[0m\u001b[0;34m\u001b[0m\u001b[0m\n\u001b[0m\u001b[1;32m      2\u001b[0m     \u001b[0mprint\u001b[0m\u001b[0;34m(\u001b[0m\u001b[0;34m'{:.2f}, {}'\u001b[0m\u001b[0;34m.\u001b[0m\u001b[0mformat\u001b[0m\u001b[0;34m(\u001b[0m\u001b[0mfloat\u001b[0m\u001b[0;34m(\u001b[0m\u001b[0mytp\u001b[0m\u001b[0;34m)\u001b[0m \u001b[0;34m/\u001b[0m \u001b[0;36m30\u001b[0m\u001b[0;34m,\u001b[0m \u001b[0mpci\u001b[0m\u001b[0;34m)\u001b[0m\u001b[0;34m)\u001b[0m\u001b[0;34m\u001b[0m\u001b[0m\n",
      "\u001b[0;31mNameError\u001b[0m: name 'gtc' is not defined"
     ]
    }
   ],
   "source": [
    "for ytp, pci in zip(y_train, gtc):\n",
    "    print('{:.2f}, {}'.format(float(ytp) / 30, pci))"
   ]
  },
  {
   "cell_type": "code",
   "execution_count": 71,
   "metadata": {},
   "outputs": [
    {
     "ename": "NameError",
     "evalue": "name 'pc' is not defined",
     "output_type": "error",
     "traceback": [
      "\u001b[0;31m---------------------------------------------------------------------------\u001b[0m",
      "\u001b[0;31mNameError\u001b[0m                                 Traceback (most recent call last)",
      "\u001b[0;32m<ipython-input-71-3d3a31bdb6ed>\u001b[0m in \u001b[0;36m<module>\u001b[0;34m\u001b[0m\n\u001b[0;32m----> 1\u001b[0;31m \u001b[0;32mfor\u001b[0m \u001b[0mytp\u001b[0m\u001b[0;34m,\u001b[0m \u001b[0mpci\u001b[0m \u001b[0;32min\u001b[0m \u001b[0mzip\u001b[0m\u001b[0;34m(\u001b[0m\u001b[0my_train_pred\u001b[0m\u001b[0;34m,\u001b[0m \u001b[0mpc\u001b[0m\u001b[0;34m)\u001b[0m\u001b[0;34m:\u001b[0m\u001b[0;34m\u001b[0m\u001b[0m\n\u001b[0m\u001b[1;32m      2\u001b[0m     \u001b[0mprint\u001b[0m\u001b[0;34m(\u001b[0m\u001b[0mytp\u001b[0m \u001b[0;34m/\u001b[0m \u001b[0;36m30\u001b[0m\u001b[0;34m,\u001b[0m \u001b[0mpci\u001b[0m\u001b[0;34m)\u001b[0m\u001b[0;34m\u001b[0m\u001b[0m\n",
      "\u001b[0;31mNameError\u001b[0m: name 'pc' is not defined"
     ]
    }
   ],
   "source": [
    "for ytp, pci in zip(y_train_pred, pc):\n",
    "    print(ytp / 30, pci)"
   ]
  },
  {
   "cell_type": "code",
   "execution_count": 72,
   "metadata": {},
   "outputs": [
    {
     "data": {
      "text/html": [
       "<div>\n",
       "<style scoped>\n",
       "    .dataframe tbody tr th:only-of-type {\n",
       "        vertical-align: middle;\n",
       "    }\n",
       "\n",
       "    .dataframe tbody tr th {\n",
       "        vertical-align: top;\n",
       "    }\n",
       "\n",
       "    .dataframe thead th {\n",
       "        text-align: right;\n",
       "    }\n",
       "</style>\n",
       "<table border=\"1\" class=\"dataframe\">\n",
       "  <thead>\n",
       "    <tr style=\"text-align: right;\">\n",
       "      <th></th>\n",
       "      <th>split</th>\n",
       "      <th>accuracy</th>\n",
       "      <th>MSE</th>\n",
       "      <th>RMSE</th>\n",
       "      <th>medianSE</th>\n",
       "      <th>MSLE</th>\n",
       "      <th>SpearmanR</th>\n",
       "    </tr>\n",
       "  </thead>\n",
       "  <tbody>\n",
       "    <tr>\n",
       "      <th>0</th>\n",
       "      <td>train</td>\n",
       "      <td>0.279330</td>\n",
       "      <td>136943.53125</td>\n",
       "      <td>370.058807</td>\n",
       "      <td>31729.341797</td>\n",
       "      <td>0.753602</td>\n",
       "      <td>(0.4176719642094151, 5.99081779089238e-09)</td>\n",
       "    </tr>\n",
       "    <tr>\n",
       "      <th>1</th>\n",
       "      <td>val</td>\n",
       "      <td>0.160714</td>\n",
       "      <td>145023.34375</td>\n",
       "      <td>380.819305</td>\n",
       "      <td>39234.812500</td>\n",
       "      <td>1.365087</td>\n",
       "      <td>(0.35345181134654824, 0.007535827660043265)</td>\n",
       "    </tr>\n",
       "  </tbody>\n",
       "</table>\n",
       "</div>"
      ],
      "text/plain": [
       "   split  accuracy           MSE        RMSE      medianSE      MSLE  \\\n",
       "0  train  0.279330  136943.53125  370.058807  31729.341797  0.753602   \n",
       "1    val  0.160714  145023.34375  380.819305  39234.812500  1.365087   \n",
       "\n",
       "                                     SpearmanR  \n",
       "0   (0.4176719642094151, 5.99081779089238e-09)  \n",
       "1  (0.35345181134654824, 0.007535827660043265)  "
      ]
     },
     "execution_count": 72,
     "metadata": {},
     "output_type": "execute_result"
    }
   ],
   "source": [
    "SE_train = (y_train_pred - y_train)**2\n",
    "SE_val = (y_val_pred - y_val)**2\n",
    "\n",
    "measures = [\n",
    "{\n",
    "    'split': 'train',\n",
    "    'accuracy': compute_accuracy(y_train_pred, y_train),\n",
    "    'MSE': SE_train.mean(),\n",
    "    'RMSE': np.sqrt(SE_train.mean()),\n",
    "    'medianSE': np.median(SE_train),\n",
    "    'MSLE': metrics.mean_squared_log_error(y_train_pred, y_train),\n",
    "    'SpearmanR': scipy.stats.spearmanr(y_train_pred, y_train)\n",
    "},\n",
    "{\n",
    "    'split': 'val',\n",
    "    'accuracy': compute_accuracy(y_val_pred, y_val),\n",
    "    'MSE': SE_val.mean(),\n",
    "    'RMSE': np.sqrt(SE_val.mean()),\n",
    "    'medianSE': np.median(SE_val),\n",
    "    'MSLE': metrics.mean_squared_log_error(y_val_pred, y_val),\n",
    "    'SpearmanR': scipy.stats.spearmanr(y_val_pred, y_val)\n",
    "}, \n",
    "]\n",
    "measures = pd.DataFrame(measures)\n",
    "measures"
   ]
  },
  {
   "cell_type": "code",
   "execution_count": null,
   "metadata": {},
   "outputs": [],
   "source": []
  }
 ],
 "metadata": {
  "kernelspec": {
   "display_name": "Python 3",
   "language": "python",
   "name": "python3"
  },
  "language_info": {
   "codemirror_mode": {
    "name": "ipython",
    "version": 3
   },
   "file_extension": ".py",
   "mimetype": "text/x-python",
   "name": "python",
   "nbconvert_exporter": "python",
   "pygments_lexer": "ipython3",
   "version": "3.7.0"
  }
 },
 "nbformat": 4,
 "nbformat_minor": 4
}
